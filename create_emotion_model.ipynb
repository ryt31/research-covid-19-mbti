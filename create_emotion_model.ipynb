{
 "cells": [
  {
   "cell_type": "code",
   "execution_count": null,
   "metadata": {},
   "outputs": [],
   "source": [
    "import pandas as pd\n",
    "import numpy as np\n",
    "from simpletransformers.classification import MultiLabelClassificationArgs\n",
    "from multi_label_classification_model_wrapper import MultiLabelClassificationModelWrapper\n",
    "import sklearn\n",
    "import sklearn.metrics\n",
    "from sklearn.preprocessing import MultiLabelBinarizer\n",
    "from sklearn.model_selection import train_test_split\n",
    "import re\n",
    "import os\n",
    "from mbti_util import MbtiUtil\n",
    "from denoicer import Denoicer"
   ]
  },
  {
   "cell_type": "code",
   "execution_count": null,
   "metadata": {},
   "outputs": [],
   "source": [
    "mbti_util = MbtiUtil()\n",
    "denoice = Denoicer()"
   ]
  },
  {
   "cell_type": "code",
   "execution_count": null,
   "metadata": {},
   "outputs": [],
   "source": [
    "# 感情コーパスを読み込み訓練データとテストデータに分割する\n",
    "def read_dataset_to_frame():\n",
    "    all_data = []\n",
    "    edf = pd.read_csv('./database/emotion/emotion_vector_corpus_ones.tsv', sep='\\t')\n",
    "    emost = 'Joy Sadness Anticipation Surprise Anger Fear Disgust Trust'\n",
    "    edf_shuf = sklearn.utils.shuffle(edf, random_state=1)\n",
    "    for s, e in edf_shuf[['Sentence', emost]].values:\n",
    "        mc = re.match(r'.*nan.*', emost)\n",
    "        if mc != None:\n",
    "            continue\n",
    "        all_data.append([denoice.normalize_text(s.strip()), np.array(e.split(' '), dtype=np.float32)])\n",
    "    train_data, eval_data = train_test_split(all_data, random_state=1) # 訓練データ（75%）テストデータ（25%）に分割\n",
    "    train_df = pd.DataFrame(train_data, columns=['text', 'labels'])\n",
    "    print(\"read train data.\")\n",
    "    eval_df = pd.DataFrame(eval_data, columns=['text', 'labels'])\n",
    "    print(\"read eval data.\")\n",
    "    return train_df, eval_df\n",
    "train_df, eval_df = read_dataset_to_frame()"
   ]
  },
  {
   "cell_type": "code",
   "execution_count": null,
   "metadata": {},
   "outputs": [],
   "source": [
    "# 感情推定モデルの学習\n",
    "def train(model_type, model_name, train_df, eval_df):\n",
    "    model_args = MultiLabelClassificationArgs(\n",
    "        num_train_epochs=5, \n",
    "        train_batch_size=64, \n",
    "        eval_batch_size=16,\n",
    "        use_early_stopping=True\n",
    "    )\n",
    "    model = MultiLabelClassificationModelWrapper(\n",
    "        model_type=model_type,\n",
    "        model_name=model_name,\n",
    "        num_labels=8,\n",
    "        args=model_args,\n",
    "        use_cuda=True\n",
    "    )\n",
    "    model_name = model_name.replace('/', '-')\n",
    "    if not os.path.exists(f'./model/{model_name}'):\n",
    "        os.mkdir(f'./model/{model_name}')\n",
    "\n",
    "    # Train the model\n",
    "    model.train_model(train_df, output_dir=f'./model/{model_name}')\n",
    "    # Evaluate the model\n",
    "    result, model_outputs, wrong_predictions = model.eval_model(eval_df)\n",
    "    return result, model_outputs, wrong_predictions\n",
    "    \n",
    "'''\n",
    "以下のいずれかのコメントを外して学習するモデルを選択する\n",
    "'''\n",
    "# model_type, model_name = ('roberta_waseda_ja', 'nlp-waseda/roberta-base-japanese')\n",
    "# model_type, model_name = ('twhinbert', 'Twitter/twhin-bert-base')\n",
    "# model_type, model_name = ('bert', 'cl-tohoku/bert-base-japanese-whole-word-masking')\n",
    "# model_type, model_name = ('xlnet', 'hajime9652/xlnet-japanese')\n",
    "# model_type, model_name = ('xlmroberta', 'xlm-roberta-base')\n",
    "\n",
    "result, model_outputs, wrong_predictions = train(\n",
    "    model_type=model_type, model_name=model_name, train_df=train_df, eval_df=eval_df)"
   ]
  },
  {
   "cell_type": "code",
   "execution_count": null,
   "metadata": {},
   "outputs": [],
   "source": [
    "def evaluate_emotion_model(eval_df, model_type, model_name):\n",
    "    model = MultiLabelClassificationModelWrapper(\n",
    "        model_type = model_type,\n",
    "        model_name = model_name,\n",
    "        num_labels=8,\n",
    "        use_cuda = True\n",
    "    )\n",
    "\n",
    "    y_true = []\n",
    "    for label in eval_df['labels'].values:\n",
    "        v = []\n",
    "        for l in label:\n",
    "            v.append(int(l))\n",
    "        y_true.append(v)\n",
    "    y_true = np.array(y_true)\n",
    "\n",
    "    predictions, raw_outputs = model.predict(eval_df['text'].to_list())\n",
    "\n",
    "    target_names = ['Joy', 'Sadness', 'Anticipation', 'Surprise', 'Anger', 'Fear', 'Disgust', 'Trust']\n",
    "    report = sklearn.metrics.classification_report(y_true, predictions, target_names=target_names)\n",
    "    print(model_name)\n",
    "    print(report)\n",
    "\n",
    "'''\n",
    "以下のいずれかのコメントを外して評価するモデルを選択する\n",
    "'''\n",
    "# model_type, model_name = ('roberta_waseda_ja', './model/trained/nlp-waseda-roberta-base-japanese/checkpoint-7555-epoch-5')\n",
    "# model_type, model_name = ('twhinbert', './model/trained/Twitter-twhin-bert-base/checkpoint-7555-epoch-5')\n",
    "# model_type, model_name = ('bert', './model/trained/cl-tohoku-bert-base-japanese-whole-word-masking/checkpoint-7555-epoch-5')\n",
    "# model_type, model_name = ('xlnet', './model/trained/hajime9652-xlnet-japanese/checkpoint-7555-epoch-5')\n",
    "# model_type, model_name = ('xlmroberta', './model/trained/xlm-roberta-base/checkpoint-7555-epoch-5')\n",
    "evaluate_emotion_model(eval_df=eval_df, model_type=model_type, model_name=model_name)"
   ]
  }
 ],
 "metadata": {
  "kernelspec": {
   "display_name": "venv",
   "language": "python",
   "name": "python3"
  },
  "language_info": {
   "codemirror_mode": {
    "name": "ipython",
    "version": 3
   },
   "file_extension": ".py",
   "mimetype": "text/x-python",
   "name": "python",
   "nbconvert_exporter": "python",
   "pygments_lexer": "ipython3",
   "version": "3.8.10"
  },
  "orig_nbformat": 4,
  "vscode": {
   "interpreter": {
    "hash": "210b98d706396c77d792f59245ce4968b85b3888226289c4d26021256b3fa3b7"
   }
  }
 },
 "nbformat": 4,
 "nbformat_minor": 2
}
