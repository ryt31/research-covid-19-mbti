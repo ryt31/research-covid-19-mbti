{
 "cells": [
  {
   "cell_type": "code",
   "execution_count": null,
   "metadata": {},
   "outputs": [],
   "source": [
    "import pandas as pd\n",
    "import numpy as np\n",
    "from multi_label_classification_model_wrapper import MultiLabelClassificationModelWrapper\n",
    "from mbti_util import MbtiUtil\n",
    "from denoicer import Denoicer"
   ]
  },
  {
   "cell_type": "code",
   "execution_count": null,
   "metadata": {},
   "outputs": [],
   "source": [
    "mbti_util = MbtiUtil()\n",
    "denoice = Denoicer()"
   ]
  },
  {
   "cell_type": "code",
   "execution_count": null,
   "metadata": {},
   "outputs": [],
   "source": [
    "def read_tweets_with_before_after(isReply=False):\n",
    "    path = './database/tweets_with_before_or_after.tsv'\n",
    "    df = pd.read_csv(path, sep='\\t')\n",
    "    if isReply:\n",
    "        df = df[df['tweet_text'].str.match('@(\\w+) ')]\n",
    "    else:\n",
    "        df = df[df['tweet_text'].str.match('(?!@(\\w+) )')]\n",
    "    return df\n",
    "\n",
    "df = read_tweets_with_before_after(isReply=False)\n",
    "df.head(5)"
   ]
  },
  {
   "cell_type": "code",
   "execution_count": null,
   "metadata": {},
   "outputs": [],
   "source": [
    "def map_emo_result(predictions) -> list:\n",
    "    emostr = 'Joy Sadness Anticipation Surprise Anger Fear Disgust Trust'\n",
    "    emos = emostr.split(' ')\n",
    "    emo_results = []\n",
    "    for p in predictions:\n",
    "        rese = []\n",
    "        for ei, x in enumerate(p):\n",
    "            if x > 0.0:\n",
    "                rese.append(emos[ei])\n",
    "        es = 'NULL'\n",
    "        if len(rese) > 0:\n",
    "            es = '|'.join(rese)\n",
    "        emo_results.append(es)\n",
    "    return emo_results\n",
    "\n",
    "def outputs_emotion_estimate(path, emo_results, raw_outputs, tweet_ids, empty_tweet_index):\n",
    "    with open(path, 'w', encoding='utf-8') as f:\n",
    "        f.write('tweet_id\\temo\\tvec\\n')\n",
    "        for i, (emo, vec, id) in enumerate(zip(emo_results, raw_outputs, tweet_ids)):\n",
    "            if i not in empty_tweet_index:\n",
    "                vec = f'{vec[0]},{vec[1]},{vec[2]},{vec[3]},{vec[4]},{vec[5]},{vec[6]},{vec[7]}'\n",
    "                f.write(f'{id}\\t{emo}\\t{vec}\\n')\n",
    "    print(f'complete {path}')\n",
    "\n",
    "# 作成したモデルからツイートを推定し、tsv ファイルに出力する\n",
    "def estimate_tweets_and_output(df, model_type, model_name, save_path):\n",
    "    to_predict = df['tweet_text'].values\n",
    "    to_predict = list(map(lambda x: denoice.normalize_text(x), to_predict))\n",
    "\n",
    "    # 正規化後に空になったツイートのインデックスのリストを作成\n",
    "    empty_tweet_index = []\n",
    "    for i, pred in enumerate(to_predict):\n",
    "        if pred == '':\n",
    "            empty_tweet_index.append(i)\n",
    "\n",
    "    model = MultiLabelClassificationModelWrapper(\n",
    "        model_type = model_type,\n",
    "        model_name = model_name,\n",
    "        num_labels=8,\n",
    "        use_cuda = True\n",
    "    )\n",
    "    predictions, raw_outputs = model.predict(to_predict)\n",
    "    emo_results = map_emo_result(predictions)\n",
    "\n",
    "    outputs_emotion_estimate(save_path, emo_results, raw_outputs, df['tweet_id'].values, empty_tweet_index)\n",
    "\n",
    "'''\n",
    "以下のいずれかのコメントを外し推定するモデルを選択する\n",
    "'''\n",
    "# model_type, model_name = ('roberta_waseda_ja', './model/trained/nlp-waseda-roberta-base-japanese/checkpoint-7555-epoch-5')\n",
    "model_type, model_name = ('twhinbert', './model/trained/Twitter-twhin-bert-base/checkpoint-7555-epoch-5')\n",
    "# model_type, model_name = ('bert', './model/trained/cl-tohoku-bert-base-japanese-whole-word-masking/checkpoint-7555-epoch-5')\n",
    "# model_type, model_name = ('xlnet', './model/trained/hajime9652-xlnet-japanese/checkpoint-7555-epoch-5')\n",
    "# model_type, model_name = ('xlmroberta', './model/trained/xlm-roberta-base/checkpoint-7555-epoch-5')\n",
    "\n",
    "name = model_name.split('/')[3]\n",
    "save_path = f'./database/emotion/estimate_result/{name}.tsv'\n",
    "estimate_tweets_and_output(df=df, model_type=model_type, model_name=model_name, save_path=save_path)"
   ]
  }
 ],
 "metadata": {
  "kernelspec": {
   "display_name": "venv",
   "language": "python",
   "name": "python3"
  },
  "language_info": {
   "codemirror_mode": {
    "name": "ipython",
    "version": 3
   },
   "file_extension": ".py",
   "mimetype": "text/x-python",
   "name": "python",
   "nbconvert_exporter": "python",
   "pygments_lexer": "ipython3",
   "version": "3.8.10"
  },
  "orig_nbformat": 4,
  "vscode": {
   "interpreter": {
    "hash": "210b98d706396c77d792f59245ce4968b85b3888226289c4d26021256b3fa3b7"
   }
  }
 },
 "nbformat": 4,
 "nbformat_minor": 2
}
